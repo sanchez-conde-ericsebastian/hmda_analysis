{
 "cells": [
  {
   "cell_type": "code",
   "execution_count": null,
   "id": "5108dc57",
   "metadata": {},
   "outputs": [],
   "source": [
    "# !pip install pandasql"
   ]
  },
  {
   "cell_type": "code",
   "execution_count": null,
   "id": "a7117a3f",
   "metadata": {},
   "outputs": [],
   "source": [
    "import pandas as pd\n",
    "import numpy as np\n",
    "import matplotlib.pyplot as plt\n",
    "import seaborn as sns\n",
    "import os\n",
    "from pandasql import sqldf\n",
    "import ipywidgets as widgets\n",
    "from IPython.display import display, clear_output\n",
    "import re\n",
    "os.chdir(\"D:/Users/Desktop/Case 1/Case 1/Data/\")"
   ]
  },
  {
   "cell_type": "markdown",
   "id": "fc1af22d",
   "metadata": {},
   "source": [
    "1.\tData– Using functions load the data. your team will use it for that purpose and needs to be easy.\n"
   ]
  },
  {
   "cell_type": "code",
   "execution_count": null,
   "id": "8df0c47c",
   "metadata": {
    "scrolled": true
   },
   "outputs": [],
   "source": [
    "#Read Loans File\n",
    "df_loans = pd.read_csv('2012_to_2014_loans_data.csv', header = 0, na_values = ['NA', 'NA ','NA  ', 'NA      ', 'NA    ','NA     ','NA   '])\n",
    "print(df_loans.shape)\n",
    "df_loans.tail(20)"
   ]
  },
  {
   "cell_type": "code",
   "execution_count": null,
   "id": "4bbf32bd",
   "metadata": {
    "scrolled": true
   },
   "outputs": [],
   "source": [
    "df_loans.dtypes"
   ]
  },
  {
   "cell_type": "code",
   "execution_count": null,
   "id": "b40e185c",
   "metadata": {},
   "outputs": [],
   "source": [
    "df_loans['Respondent_ID'] = df_loans['Respondent_ID'].astype(str)\n",
    "df_loans['Respondent_ID'] = df_loans['Respondent_ID'].str.lstrip('0').replace('', '0')\n",
    "\n",
    "df_loans.head(10)"
   ]
  },
  {
   "cell_type": "code",
   "execution_count": null,
   "id": "a1fc193d",
   "metadata": {
    "scrolled": false
   },
   "outputs": [],
   "source": [
    "# Read Institutions File\n",
    "df_institutions = pd.read_csv('2012_to_2014_institutions_data.csv', header = 0, na_values = ['NA', 'NA ','NA  ', 'NA      ', 'NA    ','NA     ','NA   '])\n",
    "print(df_institutions.shape)\n",
    "df_institutions.head(10)"
   ]
  },
  {
   "cell_type": "code",
   "execution_count": null,
   "id": "b384314f",
   "metadata": {},
   "outputs": [],
   "source": [
    "df_institutions.dtypes"
   ]
  },
  {
   "cell_type": "code",
   "execution_count": null,
   "id": "eb3fd0e2",
   "metadata": {},
   "outputs": [],
   "source": [
    "df_institutions['Respondent_ID'] = df_institutions['Respondent_ID'].astype(str)\n",
    "df_institutions['Respondent_ID'] = df_institutions['Respondent_ID'].str.lstrip('0')\n",
    "\n",
    "df_institutions.head(10)"
   ]
  },
  {
   "cell_type": "markdown",
   "id": "f3a845f9",
   "metadata": {},
   "source": [
    "a. Merge the application data with institution data such that each loan application is assigned a “Respondent_Name”"
   ]
  },
  {
   "cell_type": "code",
   "execution_count": null,
   "id": "b7df285c",
   "metadata": {},
   "outputs": [],
   "source": [
    "# Merge Datasets\n",
    "new_df = df_loans.copy()\n",
    "new_df = new_df.merge(df_institutions[['Respondent_ID', 'Agency_Code', 'As_of_Year', 'Respondent_Name_TS']], how = 'left', on = ['Respondent_ID', 'Agency_Code', 'As_of_Year'])\n",
    "print(new_df.shape)\n",
    "new_df.head(10)"
   ]
  },
  {
   "cell_type": "code",
   "execution_count": null,
   "id": "21602dfb",
   "metadata": {},
   "outputs": [],
   "source": [
    "new_df[new_df['Respondent_Name_TS'].isnull()]"
   ]
  },
  {
   "cell_type": "markdown",
   "id": "3d1ff1bf",
   "metadata": {},
   "source": [
    " Additionally, create a new attribute that buckets “Loan_Amount_000” into reasonable groups.\n"
   ]
  },
  {
   "cell_type": "code",
   "execution_count": null,
   "id": "6cc1a2ea",
   "metadata": {},
   "outputs": [],
   "source": [
    "pd.set_option('display.float_format', lambda x: '%.2f' % x)\n",
    "new_df['Loan_Amount_000'].describe()"
   ]
  },
  {
   "cell_type": "code",
   "execution_count": null,
   "id": "5d19726a",
   "metadata": {},
   "outputs": [],
   "source": [
    "fig, axes = plt.subplots(nrows = 1, ncols = 2, figsize = (10,5))\n",
    "\n",
    "axes[0].hist(new_df[new_df['Loan_Amount_000'] < 3000]['Loan_Amount_000'], bins=30, color='blue', alpha=0.7)\n",
    "axes[0].set_title('Histogram')\n",
    "axes[0].set_xlabel('Values')\n",
    "axes[0].set_ylabel('Frequency')\n",
    "\n",
    "axes[1].boxplot(new_df[new_df['Loan_Amount_000'] < 1000]['Loan_Amount_000'], vert=True, patch_artist=True) \n",
    "axes[1].set_title('Boxplot')\n",
    "axes[1].set_xlabel('Data')\n",
    "axes[1].set_ylabel('Values')"
   ]
  },
  {
   "cell_type": "code",
   "execution_count": null,
   "id": "ac97343b",
   "metadata": {},
   "outputs": [],
   "source": [
    "plt.hist(new_df[new_df['Loan_Amount_000'] < 700]['Loan_Amount_000'], bins=30, color='lightblue', alpha=0.7)"
   ]
  },
  {
   "cell_type": "code",
   "execution_count": null,
   "id": "c14ce8be",
   "metadata": {},
   "outputs": [],
   "source": [
    "labels = ['Small', 'Medium', 'Large', 'Very Large']\n",
    "new_df['Loan_Group'] = pd.qcut(new_df['Loan_Amount_000'], q=[0, 0.4, 0.65, 0.95, 1.0], labels=labels)\n",
    "new_df['Loan_Group']"
   ]
  },
  {
   "cell_type": "code",
   "execution_count": null,
   "id": "8f84501c",
   "metadata": {
    "scrolled": true
   },
   "outputs": [],
   "source": [
    "new_df"
   ]
  },
  {
   "cell_type": "markdown",
   "id": "7e56b0c3",
   "metadata": {},
   "source": [
    "i.\thmda_init() – Read the data files and return a pointer or object containing the expanded HMDA data from part a.\n"
   ]
  },
  {
   "cell_type": "code",
   "execution_count": null,
   "id": "1f2e3fa9",
   "metadata": {},
   "outputs": [],
   "source": [
    "def hmda_init():\n",
    "    df_loans = pd.read_csv('2012_to_2014_loans_data.csv', header = 0, na_values = ['NA', 'NA ','NA  ', 'NA      ', 'NA    ','NA     ','NA   '])\n",
    "    df_loans['Respondent_ID'] = df_loans['Respondent_ID'].astype(str)\n",
    "    df_loans['Respondent_ID'] = df_loans['Respondent_ID'].str.lstrip('0').replace('', '0')\n",
    "    \n",
    "    df_institutions = pd.read_csv('2012_to_2014_institutions_data.csv', header = 0, na_values = ['NA', 'NA ','NA  ', 'NA      ', 'NA    ','NA     ','NA   '])\n",
    "    df_institutions['Respondent_ID'] = df_institutions['Respondent_ID'].astype(str)\n",
    "    df_institutions['Respondent_ID'] = df_institutions['Respondent_ID'].str.lstrip('0')\n",
    "\n",
    "    new_df = df_loans.merge(df_institutions[['Respondent_ID', 'Agency_Code', 'As_of_Year', 'Respondent_Name_TS']], how = 'left', on = ['Respondent_ID', 'Agency_Code', 'As_of_Year'])\n",
    "    \n",
    "    labels = ['Small', 'Medium', 'Large', 'Very Large']\n",
    "    new_df['Loan_Group'] = pd.qcut(new_df['Loan_Amount_000'], q=[0, 0.4, 0.65, 0.95, 1.0], labels=labels)\n",
    "    \n",
    "    return new_df"
   ]
  },
  {
   "cell_type": "code",
   "execution_count": null,
   "id": "faca332e",
   "metadata": {},
   "outputs": [],
   "source": [
    "df = hmda_init() \n",
    "df"
   ]
  },
  {
   "cell_type": "code",
   "execution_count": null,
   "id": "6681b848",
   "metadata": {},
   "outputs": [],
   "source": [
    "df.dtypes"
   ]
  },
  {
   "cell_type": "markdown",
   "id": "a3c9ef6f",
   "metadata": {},
   "source": [
    "ii. SQL – Write the following queries based on the tables provided.\n",
    "\n",
    "1.\tIn the same view show the rank the agencies based on loan amount and rank by number of parent zip codes where they have provided loans"
   ]
  },
  {
   "cell_type": "code",
   "execution_count": null,
   "id": "4f853c1c",
   "metadata": {},
   "outputs": [],
   "source": [
    "run_query = lambda query: sqldf(query, globals())\n",
    "q = \"\"\"\n",
    "    SELECT a.Agency_Code, SUM(a.Loan_Amount_000) AS Total_Loan_Amount_000, m.Unique_Zip_Count\n",
    "    FROM df a\n",
    "    JOIN (\n",
    "          SELECT Agency_Code, COUNT(DISTINCT Parent_ZIP_Code) AS Unique_Zip_Count\n",
    "          FROM df_institutions\n",
    "          GROUP BY Agency_Code\n",
    "          ) m\n",
    "          ON a.Agency_Code = m.Agency_Code\n",
    "    GROUP BY a.Agency_Code\n",
    "    ORDER BY Unique_Zip_Count DESC;\n",
    "    \"\"\"\n",
    "\n",
    "result_1 = run_query(q)\n",
    "result_1"
   ]
  },
  {
   "cell_type": "markdown",
   "id": "36059aaa",
   "metadata": {},
   "source": [
    "2.\tShow the three largest loan amounts per county and the average of the county (repeated for each loan amount)\n"
   ]
  },
  {
   "cell_type": "code",
   "execution_count": null,
   "id": "b689c6a5",
   "metadata": {},
   "outputs": [],
   "source": [
    "q = \"\"\"\n",
    "    SELECT a.County_Name, a.Loan_Amount_000, a.rank, Avg_Loan_Amount_000\n",
    "    FROM (\n",
    "        SELECT County_Name, Loan_Amount_000, row_number() over (partition by County_Name order by Loan_Amount_000 desc) as rank \n",
    "        FROM df\n",
    "        WHERE County_Name NOT IN ('None')\n",
    "        ) a \n",
    "    LEFT JOIN (\n",
    "               SELECT County_Name, AVG(Loan_Amount_000) AS Avg_Loan_Amount_000\n",
    "               FROM df\n",
    "               WHERE County_Name NOT IN ('None')\n",
    "               GROUP BY County_Name) b\n",
    "    ON a.County_Name = b.County_Name\n",
    "    WHERE RANK <= 3;\n",
    "    \"\"\"\n",
    "  \n",
    "result_2 = run_query(q)\n",
    "result_2"
   ]
  },
  {
   "cell_type": "markdown",
   "id": "d1db0342",
   "metadata": {},
   "source": [
    "2.\tQuality – wrong data is worse than no data at all\n",
    "a.\tPerform quality assessment on those Loan_Amount_000 and Respondent_Name. Do not stop at descriptive analytics; produce guidelines or techniques for quality check that can be applied.\n",
    "\n",
    "* Loan_Amount_000"
   ]
  },
  {
   "cell_type": "code",
   "execution_count": null,
   "id": "ec5c4026",
   "metadata": {},
   "outputs": [],
   "source": [
    "df['Loan_Amount_000'].describe()"
   ]
  },
  {
   "cell_type": "code",
   "execution_count": null,
   "id": "6b254f3b",
   "metadata": {},
   "outputs": [],
   "source": [
    "plt.figure(figsize=(12, 10))\n",
    "\n",
    "plt.subplot(2, 2, 1)\n",
    "plt.hist(df[df['Loan_Amount_000'] < 2000]['Loan_Amount_000'], bins=30, color='skyblue', edgecolor='black')\n",
    "plt.title('Histogram')\n",
    "plt.xlabel('Loan Amount ($000)')\n",
    "\n",
    "plt.subplot(2, 2, 2)\n",
    "plt.boxplot(df[df['Loan_Amount_000'] < 2000]['Loan_Amount_000'], vert=False)\n",
    "plt.title('Box Plot of Loan Amounts')\n",
    "plt.xlabel('Loan Amount ($000)')\n",
    "\n",
    "plt.subplot(2, 2, 3)\n",
    "sns.kdeplot(df[df['Loan_Amount_000'] < 2000]['Loan_Amount_000'], shade=True, color='green')\n",
    "plt.title('Density Plot')\n",
    "plt.xlabel('Loan Amount ($000)')\n",
    "\n",
    "plt.subplot(2, 2, 4)\n",
    "sns.violinplot(y=df[df['Loan_Amount_000'] < 2000]['Loan_Amount_000'], color='magenta')\n",
    "plt.title('Violin Plot')\n",
    "plt.xlabel('Loan Amount ($000)')\n",
    "\n",
    "plt.tight_layout()\n",
    "plt.show()"
   ]
  },
  {
   "cell_type": "code",
   "execution_count": null,
   "id": "63da024b",
   "metadata": {},
   "outputs": [],
   "source": [
    "def quality_check(df, column_name):\n",
    "    \n",
    "    negative_values = df[(df[column_name] < 0)][column_name]\n",
    "    \n",
    "    null_values = df[df[column_name].isnull()][column_name]\n",
    "    \n",
    "    not_numeric_values = df[~df[column_name].apply(lambda x: isinstance(x, (int, float)))][column_name]\n",
    "\n",
    "    Q1 = df[column_name].quantile(0.25)\n",
    "    Q3 = df[column_name].quantile(0.75)\n",
    "    IQR = Q3 - Q1\n",
    "    upper_bound = Q3 + 1.5 * IQR\n",
    "    outliers = df[df[column_name] > upper_bound][column_name]\n",
    "    \n",
    "    null_sum = df[column_name].isnull().sum()\n",
    "    completeness = (1-null_sum/df.shape[0])*100\n",
    "    \n",
    "    return{\n",
    "        'negative_values': negative_values,\n",
    "        'null_values': null_values,\n",
    "        'not_numeric_values': not_numeric_values,\n",
    "        'outliers': outliers,\n",
    "        'completeness': completeness\n",
    "    }"
   ]
  },
  {
   "cell_type": "code",
   "execution_count": null,
   "id": "1317625d",
   "metadata": {},
   "outputs": [],
   "source": [
    "check_loan = quality_check(df, 'Loan_Amount_000')\n",
    "print(\"Negative Values\", check_loan['negative_values'].shape[0])\n",
    "print(check_loan['negative_values'])\n",
    "print(\"\\nNull Values\", check_loan['null_values'].shape[0])\n",
    "print(check_loan['null_values'])\n",
    "print(\"\\nNon-numeric Values\", check_loan['not_numeric_values'].shape[0])\n",
    "print(check_loan['not_numeric_values'])\n",
    "print(\"\\nOutliers\", check_loan['outliers'].shape[0])\n",
    "print(check_loan['outliers'])\n",
    "print(\"\\nCompleteness Percentage\")\n",
    "print(check_loan['completeness'])"
   ]
  },
  {
   "cell_type": "code",
   "execution_count": null,
   "id": "514f3149",
   "metadata": {},
   "outputs": [],
   "source": [
    "plt.hist(check_loan['outliers'], bins=30, color='skyblue', edgecolor='black')\n",
    "plt.title('Histogram')\n",
    "plt.xlabel('Outliers Loan Amount ($000)')"
   ]
  },
  {
   "cell_type": "code",
   "execution_count": null,
   "id": "14eaf1db",
   "metadata": {},
   "outputs": [],
   "source": [
    "#Copy df\n",
    "df_copy_2 = df.copy()\n",
    "df_copy_2 = df_copy_2.drop(list(check_loan['outliers'].index))\n",
    "df_copy_2"
   ]
  },
  {
   "cell_type": "code",
   "execution_count": null,
   "id": "a3a67308",
   "metadata": {},
   "outputs": [],
   "source": [
    "labels = ['Small', 'Medium', 'Large', 'Very Large']\n",
    "df_copy_2['Loan_Group'] = pd.qcut(new_df['Loan_Amount_000'], q=[0, 0.25, 0.5, 0.75, 1.0], labels=labels)\n",
    "df_copy_2['Loan_Group']"
   ]
  },
  {
   "cell_type": "markdown",
   "id": "4f5a6ce1",
   "metadata": {},
   "source": [
    "* Respondent Name\n",
    "\n",
    "Al ser una variable de tipo carácter, revisaremos patrones en el nombre de las instituciones así como una limpieza de cualquier signo o carácter que no esté deacuerdo al formato establecido."
   ]
  },
  {
   "cell_type": "code",
   "execution_count": null,
   "id": "380d1bb0",
   "metadata": {},
   "outputs": [],
   "source": [
    "def quality_check_2(df, column_name):\n",
    "    df_copy = df.copy()\n",
    "\n",
    "    null_values = df_copy[df_copy[column_name].isnull()][column_name]\n",
    "    \n",
    "    df_copy[column_name] = df_copy[column_name].apply(lambda x: re.sub(r'[^\\w\\s]', '', x))\n",
    "    df_copy[column_name] = df_copy[column_name].str.upper().str.strip()\n",
    "\n",
    "    df_copy['Name_Length'] = df_copy[column_name].str.len()\n",
    "    anomalies = df_copy[(df_copy['Name_Length'] < 7)|\n",
    "                        (df_copy['Name_Length'] > 35)][column_name]\n",
    "    \n",
    "    digit_values = df_copy[df_copy[column_name].astype(str).str.isdigit()][column_name]\n",
    "    \n",
    "    df_cleaned = df_copy.drop('Name_Length', axis = 1)\n",
    "    \n",
    "    return {\n",
    "        'null_values': null_values, \n",
    "        'anomalies': anomalies,\n",
    "        'cleaned_df': df_cleaned,\n",
    "        'digit_values': digit_values\n",
    "    }"
   ]
  },
  {
   "cell_type": "code",
   "execution_count": null,
   "id": "d1759150",
   "metadata": {},
   "outputs": [],
   "source": [
    "result_institutions = quality_check_2(df_copy_2, 'Respondent_Name_TS')\n",
    "print(\"Null Values\", result_institutions['null_values'].shape[0])\n",
    "print(result_institutions['null_values'])\n",
    "print(\"\\nAnomalies\", result_institutions['anomalies'].shape[0])\n",
    "print(result_institutions['anomalies'].value_counts())\n",
    "print(\"\\nDigit Values\", result_institutions['digit_values'].shape[0])\n",
    "print(result_institutions['digit_values'])"
   ]
  },
  {
   "cell_type": "code",
   "execution_count": null,
   "id": "bbddd8b6",
   "metadata": {},
   "outputs": [],
   "source": [
    "df_copy_2 = result_institutions['cleaned_df']\n",
    "print(df_copy_2.shape)\n",
    "df_copy_2.head()"
   ]
  },
  {
   "cell_type": "markdown",
   "id": "40f44300",
   "metadata": {},
   "source": [
    "Hemos revisado si nuestra columna tiene valores nulos, así como realizado un formato estándar para todos los datos y revisado aquellos nombres que pueden ser erróneos o solo contienen números. Para poder seguir con la revisión de los nombres sería importante revisar que estas instituciones se encontrarán en una base de nombres de instituciones financieras permitidas."
   ]
  },
  {
   "cell_type": "markdown",
   "id": "795020a6",
   "metadata": {},
   "source": [
    "b. What other attributes (1 or 2) are relevant to keep regular quality check, why?\n"
   ]
  },
  {
   "cell_type": "markdown",
   "id": "a49955a6",
   "metadata": {},
   "source": [
    "Parte primordial para la decisión de otorgar el préstamo se basa en el poder aqdquisitivo que el usuario tenga o en nuestro caso el 'Applicant_Income_000'. Es por eso que realizaremos un análisis para asegurarnos que la calidad de nuestros datos en esta columna sea la correcta.\n",
    "\n",
    "* Applicant_Income_000"
   ]
  },
  {
   "cell_type": "code",
   "execution_count": null,
   "id": "4c07d3d8",
   "metadata": {},
   "outputs": [],
   "source": [
    "plt.figure(figsize=(12, 10))\n",
    "\n",
    "plt.subplot(2, 2, 1)\n",
    "plt.hist(df_copy_2[df_copy_2['Applicant_Income_000'] < 2000]['Applicant_Income_000'], bins=30, color='skyblue', edgecolor='black')\n",
    "plt.title('Histogram')\n",
    "plt.xlabel('Applicant Income ($000)')\n",
    "\n",
    "plt.subplot(2, 2, 2)\n",
    "plt.boxplot(df_copy_2[df_copy_2['Applicant_Income_000'] < 2000]['Applicant_Income_000'], vert=False)\n",
    "plt.title('Box Plot of Loan Amounts')\n",
    "plt.xlabel('Applicant Income ($000)')\n",
    "\n",
    "plt.subplot(2, 2, 3)\n",
    "sns.kdeplot(df_copy_2[df_copy_2['Applicant_Income_000'] < 2000]['Applicant_Income_000'], shade=True, color='green')\n",
    "plt.title('Density Plot')\n",
    "plt.xlabel('Applicant Income ($000)')\n",
    "\n",
    "plt.subplot(2, 2, 4)\n",
    "sns.violinplot(y=df_copy_2[df_copy_2['Applicant_Income_000'] < 2000]['Applicant_Income_000'], color='magenta')\n",
    "plt.title('Violin Plot')\n",
    "plt.xlabel('Applicant Income ($000)')\n",
    "\n",
    "plt.tight_layout()\n",
    "plt.show()"
   ]
  },
  {
   "cell_type": "code",
   "execution_count": null,
   "id": "a2a5644f",
   "metadata": {},
   "outputs": [],
   "source": [
    "plt.figure(figsize=(10, 6))\n",
    "plt.hist(df_copy_2[df_copy_2['Applicant_Income_000'] < 600]['Applicant_Income_000'], bins=30, color='skyblue', edgecolor='black')\n",
    "plt.title('Histogram')\n",
    "plt.xlabel('Applicant Income ($000)')"
   ]
  },
  {
   "cell_type": "code",
   "execution_count": null,
   "id": "d0a38338",
   "metadata": {
    "scrolled": false
   },
   "outputs": [],
   "source": [
    "check_income = quality_check(df_copy_2, 'Applicant_Income_000')\n",
    "print(\"Negative Values\", check_income['negative_values'].shape[0])\n",
    "print(check_income['negative_values'])\n",
    "print(\"\\nNull Values\", check_income['null_values'].shape[0])\n",
    "print(check_income['null_values'])\n",
    "print(\"\\nNon-numeric Values\", check_income['not_numeric_values'].shape[0])\n",
    "print(check_income['not_numeric_values'])\n",
    "print(\"\\nOutliers\", check_income['outliers'].shape[0])\n",
    "print(check_income['outliers'])\n",
    "print(\"\\nCompleteness Percentage\")\n",
    "print(check_income['completeness'])"
   ]
  },
  {
   "cell_type": "code",
   "execution_count": null,
   "id": "b94958bf",
   "metadata": {},
   "outputs": [],
   "source": [
    "existing_indexes = set(df_copy_2.index)\n",
    "indexes_to_drop = set(check_income['outliers'].index)\n",
    "indexes_final = existing_indexes.intersection(indexes_to_drop)\n",
    "\n",
    "df_copy_2 = df_copy_2.drop(list(indexes_final))\n",
    "print(df_copy_2.shape)\n",
    "df_copy_2.head(10)"
   ]
  },
  {
   "cell_type": "code",
   "execution_count": null,
   "id": "5a372b64",
   "metadata": {},
   "outputs": [],
   "source": [
    "plt.figure(figsize = (8,6))\n",
    "plt.hist(df_copy_2['Applicant_Income_000'], bins=30, color='skyblue', edgecolor='black')\n",
    "plt.title('Histogram')\n",
    "plt.xlabel('Applicant Income ($000)')\n",
    "plt.show()"
   ]
  },
  {
   "cell_type": "code",
   "execution_count": null,
   "id": "7df85ab6",
   "metadata": {},
   "outputs": [],
   "source": [
    "median_income = df['Applicant_Income_000'].median()\n",
    "df['Applicant_Income_000'] = df['Applicant_Income_000'].fillna(median_income)"
   ]
  },
  {
   "cell_type": "markdown",
   "id": "3e1bb0e1",
   "metadata": {},
   "source": [
    "Después de realizar el análisis de nuestra variable 'Applicant_Amount_000' se ha decidido imputar la mediana en aquellos valores faltantes."
   ]
  },
  {
   "cell_type": "markdown",
   "id": "473e317b",
   "metadata": {},
   "source": [
    "* Uniqueness Primary Key\n",
    "\n",
    "En el documento de 'Data Challenge - Metadata' Se menciona que si se combinan las variables 'As_of_Year', 'Agency_Code' y 'Respondent_ID' se puede considerar un identificador único para la institución en ese año. Es por esto que necesitamos tener en nuestra base de instituciones la seguridad que no existe duplicidad en el conjunto de estas variables."
   ]
  },
  {
   "cell_type": "code",
   "execution_count": null,
   "id": "5ef41bdb",
   "metadata": {},
   "outputs": [],
   "source": [
    "def quality_check_3(df, column_name):\n",
    "    null_sum = df[column_name].isnull().sum()\n",
    "    completeness = (1-null_sum/df.shape[0])*100\n",
    "    return completeness"
   ]
  },
  {
   "cell_type": "code",
   "execution_count": null,
   "id": "937bf072",
   "metadata": {},
   "outputs": [],
   "source": [
    "print(quality_check_3(df_copy_2, 'As_of_Year'))\n",
    "print(quality_check_3(df_copy_2, 'Agency_Code'))\n",
    "print(quality_check_3(df_copy_2, 'Respondent_ID'))"
   ]
  },
  {
   "cell_type": "code",
   "execution_count": null,
   "id": "ed0954c8",
   "metadata": {},
   "outputs": [],
   "source": [
    "#Check for one digit\n",
    "df_copy_2[~df_copy_2['Agency_Code'].astype(str).str.match(r'^\\d$')].shape[0]"
   ]
  },
  {
   "cell_type": "code",
   "execution_count": null,
   "id": "31ade627",
   "metadata": {},
   "outputs": [],
   "source": [
    "print('Unique years in the dataset:',df['As_of_Year'].unique())"
   ]
  },
  {
   "cell_type": "code",
   "execution_count": null,
   "id": "5fa7cf36",
   "metadata": {},
   "outputs": [],
   "source": [
    "df_copy_2['Identifier'] = df_copy_2['As_of_Year'].astype(str) + \"_\" + df_copy_2['Agency_Code'].astype(str) + \"_\" + df_copy_2['Respondent_ID'].astype(str)\n",
    "df_copy_2['Identifier']"
   ]
  },
  {
   "cell_type": "markdown",
   "id": "427d7b5f",
   "metadata": {},
   "source": [
    "Hemos revisado que en nuestra base de instituciones, tengamos el $100\\% $ de la información y de igual forma el atributo 'Agency_Code' sea un digito. Finalmente hemos creado una nueva columna que es la combinación de nuestros demás atributos."
   ]
  },
  {
   "cell_type": "markdown",
   "id": "68998cbd",
   "metadata": {},
   "source": [
    "3.\tCreate a visual narrative with data"
   ]
  },
  {
   "cell_type": "markdown",
   "id": "a9b2721f",
   "metadata": {},
   "source": [
    "El dataset solo contiene la información de 5 estados siendo West Virginia, Delaware, District of Columbia, Maryland y Virginia. Partiendo de esta información propondremos una hipótesis:\n",
    "\n",
    "##### Hipótesis\n",
    "\n",
    "Entrar en el mercado del estado de Maryland es la mejor opción actualmente para Keep Financial, pues se ha visto una tendencia positiva en los últimos años en los préstamos hipotecarios y unos ingresos estables durante este tiempo"
   ]
  },
  {
   "cell_type": "code",
   "execution_count": null,
   "id": "028637c0",
   "metadata": {},
   "outputs": [],
   "source": [
    "plt.figure(figsize=(12, 10))\n",
    "\n",
    "df_copy_3 = df_copy_2.copy()\n",
    "df_copy_3['As_of_Year'] = df_copy_3['As_of_Year'].astype(str)\n",
    "\n",
    "plt.subplot(2, 2, 1)\n",
    "sns.lineplot(x='As_of_Year', y='Loan_Amount_000', hue='State', data=df_copy_3, estimator = sum)\n",
    "plt.title('Loan Amount Trends by State')\n",
    "plt.xlabel('Year')\n",
    "plt.ylabel('Total Loan Amount (000s)')\n",
    "plt.legend(title='State')\n",
    "\n",
    "plt.subplot(2, 2, 2)\n",
    "sns.barplot(x='As_of_Year', y='Loan_Amount_000', hue='State', data=df_copy_3)\n",
    "plt.title('Loan Amount Avg Trend by State')\n",
    "plt.xlabel('Year')\n",
    "plt.ylabel('Total Loan Amount (000s)')\n",
    "plt.legend(title='State')\n",
    "\n",
    "plt.subplot(2, 2, 3)\n",
    "sns.lineplot(x='As_of_Year', y='Applicant_Income_000', hue='State', data=df_copy_3, estimator = sum)\n",
    "plt.title('Applicant Income Trends by State')\n",
    "plt.xlabel('Year')\n",
    "plt.ylabel('Total Applicant Income (000s)')\n",
    "plt.legend(title='State')\n",
    "\n",
    "plt.subplot(2, 2, 4)\n",
    "sns.barplot(x='As_of_Year', y='Applicant_Income_000', hue='State', data=df_copy_3)\n",
    "plt.title('Applicant Income Avg Trend by State')\n",
    "plt.xlabel('Year')\n",
    "plt.ylabel('Total Applicant Income (000s)')\n",
    "plt.legend(title='State')\n",
    "\n",
    "plt.show()"
   ]
  },
  {
   "cell_type": "code",
   "execution_count": null,
   "id": "2b5e8106",
   "metadata": {},
   "outputs": [],
   "source": [
    "plt.figure(figsize=(10, 5))\n",
    "\n",
    "plt.subplot(1, 2, 1)\n",
    "sns.lineplot(x='As_of_Year', y='Loan_Amount_000', hue='State', data=df_copy_3[df_copy_3['State'].isin(['DC', 'DE', 'WV'])], estimator = sum)\n",
    "plt.title('Loan Amount Trends by State')\n",
    "plt.xlabel('Year')\n",
    "plt.ylabel('Total Loan Amount (000s)')\n",
    "plt.legend(title='State')\n",
    "\n",
    "plt.subplot(1, 2, 2)\n",
    "sns.lineplot(x='As_of_Year', y='Applicant_Income_000', hue='State', data=df_copy_3[df_copy_3['State'].isin(['DC', 'DE', 'WV'])], estimator = sum)\n",
    "plt.title('Applicant Income Trends by State')\n",
    "plt.xlabel('Year')\n",
    "plt.ylabel('Total Applicant Income (000s)')\n",
    "plt.legend(title='State')\n",
    "\n",
    "plt.show()"
   ]
  },
  {
   "cell_type": "code",
   "execution_count": null,
   "id": "435b6193",
   "metadata": {},
   "outputs": [],
   "source": [
    "plt.figure(figsize=(12, 5))\n",
    "loans_per_state = df['State'].value_counts().reset_index()\n",
    "loans_per_state.columns = ['State', 'Number_of_Loans']\n",
    "\n",
    "plt.subplot(1, 2, 1)\n",
    "sns.barplot(x='State', y='Number_of_Loans', data=loans_per_state)\n",
    "plt.title('Number of Loans Submitted by State')\n",
    "plt.xlabel('State')\n",
    "plt.ylabel('Number of Loans')\n",
    "\n",
    "plt.subplot(1, 2, 2)\n",
    "\n",
    "plt.pie(x=loans_per_state['Number_of_Loans'], labels=loans_per_state['State'], autopct='%.0f%%')\n",
    "plt.title('Percentage of Loans Submitted by State')\n",
    "\n",
    "plt.tight_layout()\n",
    "plt.show()"
   ]
  },
  {
   "cell_type": "code",
   "execution_count": null,
   "id": "12ed1a9e",
   "metadata": {},
   "outputs": [],
   "source": [
    "plt.figure(figsize=(12, 5))\n",
    "\n",
    "plt.subplot(1, 2, 1)\n",
    "ax1 = sns.countplot(\n",
    "    x='As_of_Year',\n",
    "    hue='State',\n",
    "    data=df_copy_2\n",
    ")\n",
    "ax1.set_title('Number of Loans Submitted by Year and State')\n",
    "ax1.set_xlabel('Year')\n",
    "ax1.set_ylabel('Count of Loans')\n",
    "plt.legend(loc='upper left', title='State')\n",
    "\n",
    "\n",
    "df_agg = df_copy_3[['As_of_Year', 'State', 'Loan_Amount_000', 'Applicant_Income_000']].groupby(['As_of_Year', 'State']).sum()\n",
    "df_agg.reset_index(inplace = True)\n",
    "df_pivot = df_agg.pivot(index='State', columns='As_of_Year', values='Loan_Amount_000')\n",
    "df_pivot['Ratio_2012_to_2014'] = 1 - df_pivot['2014'] / df_pivot['2012']\n",
    "\n",
    "plt.subplot(1, 2, 2)\n",
    "ax = df_pivot['Ratio_2012_to_2014'].plot(kind='bar', color='skyblue')\n",
    "plt.title('Ratio of Loan Amounts: 2012 to 2014 by State')\n",
    "plt.xlabel('State')\n",
    "plt.ylabel('Ratio of Loan Amounts (2012/2014)')\n",
    "plt.xticks(rotation=45)\n",
    "\n",
    "for p in ax.patches:\n",
    "    ax.annotate(format(p.get_height(), '.2f'),  \n",
    "                (p.get_x() + p.get_width() / 2., p.get_height()),\n",
    "                ha = 'center',\n",
    "                va = 'center',\n",
    "                xytext = (0, 9), \n",
    "                textcoords = 'offset points')\n",
    "\n",
    "plt.tight_layout()\n",
    "plt.show()"
   ]
  },
  {
   "cell_type": "code",
   "execution_count": null,
   "id": "d61dcfb4",
   "metadata": {},
   "outputs": [],
   "source": [
    "g = sns.catplot(\n",
    "    x='State', \n",
    "    kind='count', \n",
    "    hue='Loan_Group', \n",
    "    data=df_copy_2, \n",
    "    height=6, \n",
    "    aspect=2,\n",
    "    legend = False\n",
    ")\n",
    "\n",
    "g.ax.set_title('Number of Loans by Loan Amount Category and State')\n",
    "g.set_axis_labels('State', 'Count of Loans')\n",
    "plt.legend(loc='upper left')\n",
    "plt.show()"
   ]
  },
  {
   "cell_type": "code",
   "execution_count": null,
   "id": "49b72f75",
   "metadata": {},
   "outputs": [],
   "source": [
    "plt.figure(figsize=(6,4))\n",
    "sns.countplot(x ='Loan_Purpose_Description', data = df_copy_2, palette = 'Set1')\n",
    "plt.ylabel('Count')\n",
    "plt.xlabel('States')\n",
    "plt.title('Number of Refinance and Purchase')"
   ]
  },
  {
   "cell_type": "code",
   "execution_count": null,
   "id": "2eaf5d8c",
   "metadata": {},
   "outputs": [],
   "source": [
    "g = sns.catplot(\n",
    "    x='State', \n",
    "    kind='count', \n",
    "    hue='Loan_Purpose_Description', \n",
    "    data=df_copy_2, \n",
    "    height=6, \n",
    "    aspect=2,\n",
    "    legend = False\n",
    ")\n",
    "\n",
    "g.ax.set_title('Number of Loans by State And Loan Purpose')\n",
    "g.set_axis_labels('State', 'Count of Loans')\n",
    "plt.legend(loc='upper left')\n",
    "plt.show()"
   ]
  },
  {
   "cell_type": "code",
   "execution_count": null,
   "id": "e63b4370",
   "metadata": {},
   "outputs": [],
   "source": [
    "respondent_per_state = df.groupby('State')['Respondent_Name_TS'].nunique().reset_index()\n",
    "respondent_per_state_sorted = respondent_per_state.sort_values(by='Respondent_Name_TS', ascending=False)\n",
    "\n",
    "plt.figure(figsize=(10, 6))\n",
    "sns.barplot(data=respondent_per_state_sorted, x='State', y='Respondent_Name_TS')\n",
    "plt.title('Number of Different Respondents per State')\n",
    "plt.xlabel('State Name')\n",
    "plt.ylabel('Number of Unique Respondents')\n",
    "plt.show()"
   ]
  },
  {
   "cell_type": "markdown",
   "id": "7f6f1130",
   "metadata": {},
   "source": [
    "Existe una tendencia a la baja en la cantidad solicitada de los préstamos, siendo Maryland el segundo posicionado en esta categoría. Al mismo tiempo en la cantidad promedio por préstamo y en los ingresos del aplicante están en segundo lugar, con un primer lugar de District of Columbia y una tercera posición para Virginia.\n",
    "\n",
    "De la mano podemos ver que en el número de solucitudes, el orden se encuentra con Virgina, Maryland y después bastante lejos West Virginia, Delaware y District of Columbia. Virginia tiene números sólidos en cuanto la suma total de los préstamos, así como la demanda de estos, siendo el mercado más grande de estos estados.\n",
    "\n",
    "Se puede apreciar que la mayoría de solicitudes de préstamos es para realizar refinanciamiento de la propiedad, esta característica se mantiene independientemente del estado. En cuanto a la cantidad de préstamo por categoría, la relación con los estados es muy similar, siendo el District of Columbia el único que su mayor porcentaje se encuentra en los préstamos de alto nivel, que lo pudimos ver repercutido en el préstamo promedio.\n",
    "\n",
    "Después de realizar este análisis podemos concluír que Maryland es buena opción por el mercado que ofrece, sin embargo podemos encontrar mejores oportunidades dependiendo de las necesidades de la empresa, como lo puede ser el estado de Virginia. Faltan realizar nuevos análisis e incluír nuevas características de los préstamos para poder tomar una decisión."
   ]
  },
  {
   "cell_type": "markdown",
   "id": "60dfe335",
   "metadata": {},
   "source": [
    "4.\tBasic stuff is done, now go a step further. What have piqued your mind so far? Have any worries about data quality? Make hypothesis, prototype a tool to improve this data product and highlight your area of expertise."
   ]
  },
  {
   "cell_type": "markdown",
   "id": "cc4b981d",
   "metadata": {},
   "source": [
    "Empezaremos con la limpieza de aquellas variables 'Loan_Amount_000' y 'Applicant_Income_000', donde detectaremos la información que puede afectar nuestras decisiones y la eliminaremos para tener un análisis de mayor calidad."
   ]
  },
  {
   "cell_type": "code",
   "execution_count": null,
   "id": "4950359c",
   "metadata": {},
   "outputs": [],
   "source": [
    "def get_outliers(df, column_name):\n",
    "    q1 = df[column_name].quantile(0.25)\n",
    "    q3 = df[column_name].quantile(0.75)\n",
    "    iqr = q3 - q1\n",
    "    fence_low = q1 - 1.5 * iqr\n",
    "    fence_high = q3 + 1.5 * iqr\n",
    "    df_outliers = df.loc[(df[column_name] < fence_low) | (df[column_name] > fence_high)]\n",
    "    return df_outliers, fence_low, fence_high\n",
    "\n",
    "def plot_data(df, outliers, column_name):\n",
    "    plt.figure(figsize=(10, 6))\n",
    "    plt.scatter(df.index, df[column_name], label='Data')\n",
    "    if not outliers.empty:\n",
    "        plt.scatter(outliers.index, outliers[column_name], color='r', label='Outliers')\n",
    "    plt.axhline(y=fence_low, color='g', linestyle='--', label='Lower Bound')\n",
    "    plt.axhline(y=fence_high, color='g', linestyle='--', label='Upper Bound')\n",
    "    plt.xlabel('Index')\n",
    "    plt.ylabel(column_name)\n",
    "    plt.legend()\n",
    "    plt.grid(True)\n",
    "    plt.show()\n",
    "    \n",
    "def remove_outliers(b):\n",
    "    global df_copy_5\n",
    "    global outliers\n",
    "    df_copy_5 = df_copy_5.loc[(df_copy_5['Loan_Amount_000'] >= fence_low) & (df_copy_5['Loan_Amount_000'] <= fence_high)]\n",
    "    outliers = pd.DataFrame(columns = df_copy_5.columns)\n",
    "    plot_data(df_copy_5, outliers, 'Loan_Amount_000')\n",
    "\n",
    "df_copy_5 = df.copy()\n",
    "outliers, fence_low, fence_high = get_outliers(df_copy_5, 'Loan_Amount_000')\n",
    "plot_data(df_copy_5, outliers, 'Loan_Amount_000')\n",
    "\n",
    "button = widgets.Button(description=\"Remove Outliers\")\n",
    "button.on_click(remove_outliers)\n",
    "display(button)"
   ]
  },
  {
   "cell_type": "code",
   "execution_count": null,
   "id": "0d7e9239",
   "metadata": {},
   "outputs": [],
   "source": [
    "def remove_outliers_2(b):\n",
    "    global df_copy_5\n",
    "    global outliers_2\n",
    "    df_copy_5 = df_copy_5.loc[(df_copy_5['Applicant_Income_000'] >= fence_low) & (df_copy_5['Applicant_Income_000'] <= fence_high)]\n",
    "    outliers_2 = pd.DataFrame(columns = df_copy_5.columns)\n",
    "    plot_data(df_copy_5, outliers_2, 'Applicant_Income_000')\n",
    "\n",
    "outliers_2, fence_low_2, fence_high_2 = get_outliers(df_copy_5, 'Applicant_Income_000')\n",
    "plot_data(df_copy_5, outliers_2, 'Applicant_Income_000')\n",
    "\n",
    "button = widgets.Button(description=\"Remove Outliers\")\n",
    "button.on_click(remove_outliers_2)\n",
    "display(button)"
   ]
  },
  {
   "cell_type": "code",
   "execution_count": null,
   "id": "96a3af13",
   "metadata": {},
   "outputs": [],
   "source": [
    "def update_plot(state):\n",
    "    filtered_data = df_copy_2[df_copy_2['State'] == state]\n",
    "    \n",
    "    plt.figure(figsize=(10, 6))\n",
    "    plt.hist(filtered_data['Loan_Amount_000'], bins=30, color='blue', alpha=0.7)\n",
    "    plt.title(f'Loan Amount Distribution in {state}')\n",
    "    plt.xlabel('Loan Amount (000s)')\n",
    "    plt.ylabel('Frequency')\n",
    "    plt.grid(True)\n",
    "    plt.show()\n",
    "\n",
    "state_dropdown = widgets.Dropdown(\n",
    "    options=['VA', 'MD', 'DC', 'WV', 'DE'],\n",
    "    value='VA',\n",
    "    description='State:',\n",
    "    disabled=False,\n",
    ")\n",
    "\n",
    "widgets.interactive(update_plot, state=state_dropdown)"
   ]
  },
  {
   "cell_type": "markdown",
   "id": "cc9a1c4c",
   "metadata": {},
   "source": [
    "A continuación realizaremos la limpieza de las variables de tipo cadena, donde ajustaremos un estándar para los datos y sea más fácil la manipulación de estas variables."
   ]
  },
  {
   "cell_type": "code",
   "execution_count": null,
   "id": "e6ed8107",
   "metadata": {},
   "outputs": [],
   "source": [
    "def clean_data(b):\n",
    "    column_name = dropdown.value\n",
    "    df_copy_5[column_name] = df_copy_5[column_name].apply(lambda x: re.sub(r'[^\\w\\s]', '', str(x)))\n",
    "    df_copy_5[column_name] = df_copy_5[column_name].str.upper().str.strip()\n",
    "\n",
    "    with output:\n",
    "        clear_output(wait=True)\n",
    "        display(df_copy_5)\n",
    "\n",
    "dropdown = widgets.Dropdown(\n",
    "    options=df_copy_5.columns,\n",
    "    description='Column:',\n",
    "    disabled=False\n",
    ")\n",
    "\n",
    "button = widgets.Button(description=\"Clean Data\")\n",
    "\n",
    "output = widgets.Output()\n",
    "button.on_click(clean_data)\n",
    "\n",
    "display(dropdown, button, output)"
   ]
  },
  {
   "cell_type": "markdown",
   "id": "73d670bf",
   "metadata": {},
   "source": [
    "Finalmente revisaremos aquellas variables que no tenemos todos los valores de estas, y decidiremos si eliminar aquellos registros que no contamos con la información completa."
   ]
  },
  {
   "cell_type": "code",
   "execution_count": null,
   "id": "d2a0e487",
   "metadata": {},
   "outputs": [],
   "source": [
    "def plot_completeness(df):\n",
    "    completeness = df.notnull().mean() * 100 \n",
    "    plt.bar(completeness.index, completeness)\n",
    "    plt.ylabel('Completeness (%)')\n",
    "    plt.title('Column Completeness Before Cleaning')\n",
    "    plt.xticks(rotation=90)\n",
    "    plt.show()\n",
    "\n",
    "def remove_nulls(b):\n",
    "    selected_column = dropdown.value\n",
    "    global df_copy_5\n",
    "    df_copy_5 = df_copy_5[df_copy_5[selected_column].notnull()] \n",
    "\n",
    "    clear_output(wait=True)\n",
    "    display(dropdown, button)\n",
    "    plot_completeness(df_copy_5)\n",
    "\n",
    "plot_completeness(df_copy_5)\n",
    "\n",
    "dropdown = widgets.Dropdown(\n",
    "    options=df_copy_5.columns,\n",
    "    value=df_copy_5.columns[0],\n",
    "    description='Column:',\n",
    "    disabled=False,\n",
    ")\n",
    "\n",
    "button = widgets.Button(description=\"Remove Nulls\")\n",
    "button.on_click(remove_nulls)\n",
    "\n",
    "display(dropdown, button)"
   ]
  },
  {
   "cell_type": "markdown",
   "id": "a4bae461",
   "metadata": {},
   "source": [
    "### Virginia vs West Virginia\n",
    "\n",
    "##### Hipótesis\n",
    "Virginia mostrará una relación mayor a la relación de los ingresos de los prestatarios contra la cantidad solicitada en comparación con West Virginia, donde reflajará un mercado inmobiliario menos costoso en West Virginia y al mismo tiempo precios imobiliarios menores."
   ]
  },
  {
   "cell_type": "code",
   "execution_count": null,
   "id": "b3c7a3ac",
   "metadata": {},
   "outputs": [],
   "source": [
    "plt.figure(figsize=(14, 7))\n",
    "sns.histplot(data=df_copy_2[df_copy_2['State'].isin(['VA', 'WV'])], x='Loan_Amount_000', hue='State', element='step', stat='density', common_norm=False)\n",
    "plt.title('Distribution of Loan Amounts in VA and WV')\n",
    "plt.xlabel('Loan Amount (000s)')\n",
    "plt.ylabel('Density')\n",
    "plt.show()"
   ]
  },
  {
   "cell_type": "code",
   "execution_count": null,
   "id": "db6cb713",
   "metadata": {},
   "outputs": [],
   "source": [
    "plt.figure(figsize=(14, 7))\n",
    "sns.histplot(data=df_copy_2[df_copy_2['State'].isin(['VA', 'WV'])], x='Applicant_Income_000', hue='State', element='step', stat='density', common_norm=False)\n",
    "plt.title('Distribution of Applicant Income in VA and WV')\n",
    "plt.xlabel('Applicant Income (000s)')\n",
    "plt.ylabel('Density')\n",
    "plt.show()"
   ]
  },
  {
   "cell_type": "code",
   "execution_count": null,
   "id": "4de630ec",
   "metadata": {},
   "outputs": [],
   "source": [
    "df_copy_4 = df_copy_2.copy()\n",
    "df_copy_4['Loan_to_Income_Ratio'] = df_copy_4['Loan_Amount_000'] / df_copy_4['Applicant_Income_000']\n",
    "\n",
    "plt.figure(figsize=(14, 7))\n",
    "sns.histplot(data=df_copy_4[df_copy_4['State'].isin(['VA', 'WV'])  & (df_copy_4['Loan_to_Income_Ratio'] < 8)], x='Loan_to_Income_Ratio', hue='State', element='step', stat='density', common_norm=False)\n",
    "plt.title('Distribution of Loan to Income Ratio in VA and WV')\n",
    "plt.xlabel('Loan to Income Ratio')\n",
    "plt.ylabel('Number of Loans')\n",
    "plt.show()"
   ]
  },
  {
   "cell_type": "code",
   "execution_count": null,
   "id": "bd093263",
   "metadata": {},
   "outputs": [],
   "source": [
    "plt.figure(figsize=(14, 7))\n",
    "sns.countplot(data=df_copy_2[df_copy_2['State'].isin(['VA', 'WV'])], x='Loan_Type_Description', hue='State')\n",
    "plt.title('Loan Type in VA and WV')\n",
    "plt.xlabel('Loan Type')\n",
    "plt.ylabel('Number of Loans')\n",
    "plt.show()"
   ]
  },
  {
   "cell_type": "code",
   "execution_count": null,
   "id": "0b45286f",
   "metadata": {},
   "outputs": [],
   "source": [
    "plt.figure(figsize=(14, 7))\n",
    "sns.countplot(data=df_copy_2[df_copy_2['State'].isin(['VA', 'WV'])], x='Lien_Status_Description', hue='State')\n",
    "plt.title('Lien Status Distribution in VA and WV')\n",
    "plt.ylabel('Number of Loans')\n",
    "plt.xlabel('Lien Status')\n",
    "plt.show()"
   ]
  },
  {
   "cell_type": "code",
   "execution_count": null,
   "id": "b6b67d05",
   "metadata": {},
   "outputs": [],
   "source": [
    "plt.figure(figsize=(14, 7))\n",
    "\n",
    "plt.subplot(1, 2, 1)\n",
    "plt.pie(x=df_copy_2[df_copy_2['State'].isin(['VA'])]['Lien_Status_Description'].value_counts(normalize=True), labels=['First Lien', 'Subordinate Lien'], autopct='%.0f%%')\n",
    "plt.title('Percentage Lien Status in Virginia')\n",
    "\n",
    "plt.subplot(1, 2, 2)\n",
    "plt.pie(x=df_copy_2[df_copy_2['State'].isin(['WV'])]['Lien_Status_Description'].value_counts(normalize=True), labels=['First Lien', 'Subordinate Lien'], autopct='%.0f%%')\n",
    "plt.title('Percentage Lien Status in West Virginia')\n",
    "\n",
    "plt.show()"
   ]
  },
  {
   "cell_type": "code",
   "execution_count": null,
   "id": "faeb3b65",
   "metadata": {},
   "outputs": [],
   "source": [
    "plt.figure(figsize=(14, 7))\n",
    "\n",
    "plt.subplot(1, 2, 1)\n",
    "plt.pie(x=df_copy_2[df_copy_2['State'].isin(['VA'])]['Loan_Type_Description'].value_counts(normalize=True), labels=df_copy_2[df_copy_2['State'].isin(['VA'])]['Loan_Type_Description'].value_counts(normalize=True).index, autopct='%.0f%%')\n",
    "plt.title('Percentage Loan Type in Virginia')\n",
    "\n",
    "plt.subplot(1, 2, 2)\n",
    "plt.pie(x=df_copy_2[df_copy_2['State'].isin(['WV'])]['Loan_Type_Description'].value_counts(normalize=True), labels=df_copy_2[df_copy_2['State'].isin(['WV'])]['Loan_Type_Description'].value_counts(normalize=True).index, autopct='%.0f%%')\n",
    "plt.title('Percentage Loan Type in West Virginia')\n",
    "\n",
    "plt.show()"
   ]
  },
  {
   "cell_type": "markdown",
   "id": "1656c49a",
   "metadata": {},
   "source": [
    "Nuestra investigación reveló que la relación entre el préstamo y los ingresos es diferente en Virginia y West Virginia, que valida nuestra hipótesis inicial que anticipaba diferencias significativas. El análisis puso de relieve factores como el mayor ingreso de solicitantes de ingresos medios y altos en Virginia y un mayor volumen de préstamos para veteranos en Virginia. Estos resultados sugieren que aunque la carga de deuda relativa es comparable, las características demográficas y económicas subyacentes varían y deben ser consideradas en nuestras estrategias de mercado. Por lo tanto, mientras que nuestra hipótesis se sostiene en términos de diferencias en la relación préstamo-ingreso, los datos subrayan oportunidades estratégicas específicas en cada estado, como enfocar los esfuerzos de marketing hacia productos especializados para veteranos en Virginia y desarrollar productos ajustados a prestatarios de ingresos más bajos en West Virginia."
   ]
  },
  {
   "cell_type": "markdown",
   "id": "811328bb",
   "metadata": {},
   "source": [
    "### Modelo "
   ]
  },
  {
   "cell_type": "code",
   "execution_count": null,
   "id": "1795825b",
   "metadata": {},
   "outputs": [],
   "source": [
    "from sklearn.model_selection import train_test_split\n",
    "from sklearn.linear_model import LinearRegression\n",
    "from sklearn.metrics import mean_squared_error, r2_score\n",
    "from sklearn.metrics import mean_absolute_error\n",
    "from sklearn.preprocessing import OneHotEncoder"
   ]
  },
  {
   "cell_type": "code",
   "execution_count": null,
   "id": "7f8fb468",
   "metadata": {},
   "outputs": [],
   "source": [
    "df_copy_2.dropna(inplace = True)\n",
    "df_copy_model = df_copy_2.copy()\n",
    "df_copy_model.drop(columns = ['Agency_Code', 'As_of_Year', 'Agency_Code_Description', 'Respondent_ID', 'Sequence_Number',\n",
    "                              'State_Code', 'MSA_MD_Description', 'Census_Tract_Number', 'Tract_to_MSA_MD_Income_Pct', \n",
    "                              'FFIEC_Median_Family_Income', 'Number_of_Owner_Occupied_Units', 'County_Name', 'County_Code',\n",
    "                              'Conforming_Limit_000', 'Conventional_Conforming_Flag', 'Identifier', \n",
    "                              'As_of_Year', 'Respondent_Name_TS', 'FFIEC_Median_Family_Income', 'MSA_MD',\n",
    "                              'Loan_Group','Conventional_Status'], inplace = True, axis = 0)\n",
    "df_copy_model.reset_index(drop=True, inplace=True)\n",
    "df_copy_model.columns"
   ]
  },
  {
   "cell_type": "code",
   "execution_count": null,
   "id": "1c55543b",
   "metadata": {
    "scrolled": true
   },
   "outputs": [],
   "source": [
    "encoder = OneHotEncoder(sparse=False)\n",
    "encoded_features = encoder.fit_transform(df_copy_model[['Loan_Purpose_Description', 'Lien_Status_Description', \n",
    "                                                        'Loan_Type_Description', 'State', \n",
    "                                                        'Conforming_Status']])\n",
    "encoded_df = pd.DataFrame(encoded_features, columns=encoder.get_feature_names_out())\n",
    "X = pd.concat([encoded_df, df_copy_model[['Applicant_Income_000']]], axis=1)\n",
    "y = df_copy_model['Loan_Amount_000']"
   ]
  },
  {
   "cell_type": "code",
   "execution_count": null,
   "id": "0754c113",
   "metadata": {},
   "outputs": [],
   "source": [
    "X.isnull().sum()"
   ]
  },
  {
   "cell_type": "code",
   "execution_count": null,
   "id": "b506adf5",
   "metadata": {},
   "outputs": [],
   "source": [
    "corr_matrix = X.corr()\n",
    "\n",
    "plt.figure(figsize=(10, 8))\n",
    "sns.heatmap(corr_matrix, annot=True, fmt=\".2f\", cmap='coolwarm', cbar=True, linewidths=.5)\n",
    "plt.title('Matriz de Correlación de Variables')\n",
    "plt.show()"
   ]
  },
  {
   "cell_type": "code",
   "execution_count": null,
   "id": "034997ab",
   "metadata": {
    "scrolled": false
   },
   "outputs": [],
   "source": [
    "X_train, X_test, y_train, y_test = train_test_split(X, y, test_size=0.2, random_state=42)\n",
    "\n",
    "model = LinearRegression()\n",
    "model.fit(X_train, y_train)"
   ]
  },
  {
   "cell_type": "code",
   "execution_count": null,
   "id": "55c6cf39",
   "metadata": {},
   "outputs": [],
   "source": [
    "importances = model.coef_\n",
    "features = pd.DataFrame({\n",
    "    'Feature': X_train.columns,\n",
    "    'Importance': abs(importances)\n",
    "})\n",
    "\n",
    "features = features.sort_values(by='Importance', ascending=False)\n",
    "\n",
    "plt.figure(figsize=(10, 6))\n",
    "plt.barh(features['Feature'], features['Importance'], color='skyblue')\n",
    "plt.xlabel('Importance')\n",
    "plt.title('Feature Importances')\n",
    "plt.gca().invert_yaxis()\n",
    "plt.show()"
   ]
  },
  {
   "cell_type": "code",
   "execution_count": null,
   "id": "e56c8103",
   "metadata": {},
   "outputs": [],
   "source": [
    "print(\"Coeficientes del Modelo:\")\n",
    "print(pd.DataFrame({\n",
    "    'Feature': X_train.columns,\n",
    "    'Coefficient': model.coef_\n",
    "}))"
   ]
  },
  {
   "cell_type": "code",
   "execution_count": null,
   "id": "74306505",
   "metadata": {},
   "outputs": [],
   "source": [
    "features = ['Loan_Purpose_Description_Purchase', 'Loan_Purpose_Description_Refinance',\n",
    "            'Lien_Status_Description_First Lien', 'Lien_Status_Description_Subordinate Lien',\n",
    "            'Loan_Type_Description_Conventional', 'Loan_Type_Description_FHA insured',\n",
    "            'Loan_Type_Description_FSA/RHS guaranteed', 'Loan_Type_Description_VA guaranteed',\n",
    "            'State_DC', 'State_DE', 'State_MD', 'State_VA', 'State_WV',\n",
    "            'Conforming_Status_Conforming', 'Conforming_Status_Jumbo', 'Applicant_Income_000']\n",
    "df_scenarios = pd.DataFrame(columns=features)\n",
    "df_scenarios.loc['West Virginia'] = [0, 1, 1, 0, 1, 0, 0, 0, 0, 0, 0, 0, 1, 1, 0, 50]\n",
    "df_scenarios.loc['Virginia'] = [1, 0, 1, 0, 0, 1, 0, 0, 0, 0, 0, 1, 0, 1, 0, 50]\n",
    "\n",
    "predictions = model.predict(df_scenarios)\n",
    "\n",
    "print(\"Predicciones de préstamo:\")\n",
    "print(\"West Virginia: ${:,.2f}\".format(predictions[0]))\n",
    "print(\"Virginia: ${:,.2f}\".format(predictions[1]))"
   ]
  }
 ],
 "metadata": {
  "kernelspec": {
   "display_name": "Python 3 (ipykernel)",
   "language": "python",
   "name": "python3"
  },
  "language_info": {
   "codemirror_mode": {
    "name": "ipython",
    "version": 3
   },
   "file_extension": ".py",
   "mimetype": "text/x-python",
   "name": "python",
   "nbconvert_exporter": "python",
   "pygments_lexer": "ipython3",
   "version": "3.11.5"
  }
 },
 "nbformat": 4,
 "nbformat_minor": 5
}
